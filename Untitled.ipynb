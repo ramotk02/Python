{
 "cells": [
  {
   "cell_type": "code",
   "execution_count": 1,
   "id": "adfc2bdc-9fd4-4b61-b428-5cfa7f0a0323",
   "metadata": {},
   "outputs": [
    {
     "name": "stdout",
     "output_type": "stream",
     "text": [
      "Hello Wolrd!!\n"
     ]
    }
   ],
   "source": [
    "print (\"Hello Wolrd!!\")"
   ]
  },
  {
   "cell_type": "code",
   "execution_count": 2,
   "id": "8de53c8e-95f8-4aab-9684-f6b933b09d84",
   "metadata": {},
   "outputs": [
    {
     "name": "stdout",
     "output_type": "stream",
     "text": [
      "LEARNING PYTHON IS FUN!\n"
     ]
    }
   ],
   "source": [
    "print(\"LEARNING PYTHON IS FUN!\")"
   ]
  },
  {
   "cell_type": "code",
   "execution_count": 7,
   "id": "1adf1ce4-b74e-4137-aeb5-6e7974550f91",
   "metadata": {},
   "outputs": [
    {
     "name": "stdout",
     "output_type": "stream",
     "text": [
      "Student Name: Omar TAKY\n",
      "age: 20\n",
      "size: 185.7\n",
      "It's a: True\n"
     ]
    }
   ],
   "source": [
    "#Values:\n",
    "student_name = \"Omar TAKY\" \n",
    "age = 20 \n",
    "size = 185.7  \n",
    "Student_status = True  \n",
    "\n",
    "#Printing the values of the variables:\n",
    "print(\"Student Name:\", student_name)\n",
    "print(\"age:\", age)\n",
    "print(\"size:\", size)\n",
    "print(\"It's a:\", Student_status)"
   ]
  },
  {
   "cell_type": "code",
   "execution_count": 8,
   "id": "0772e925-873a-4143-99f6-340997dd5d28",
   "metadata": {},
   "outputs": [
    {
     "name": "stdout",
     "output_type": "stream",
     "text": [
      "Addition: 130\n",
      "Subtraction: -50\n",
      "Multiplication: 3600\n",
      "Division: 0.4444444444444444\n"
     ]
    }
   ],
   "source": [
    "num1 = 40\n",
    "num2 = 90\n",
    "\n",
    "#Addition\n",
    "addition_result = num1 + num2\n",
    "\n",
    "#Subtraction\n",
    "subtraction_result = num1 - num2\n",
    "\n",
    "#Multiplication\n",
    "multiplication_result = num1 * num2\n",
    "\n",
    "#Division\n",
    "division_result = num1 / num2\n",
    "\n",
    "print(\"Addition:\", addition_result)\n",
    "print(\"Subtraction:\", subtraction_result)\n",
    "print(\"Multiplication:\", multiplication_result)\n",
    "print(\"Division:\", division_result)"
   ]
  },
  {
   "cell_type": "code",
   "execution_count": 9,
   "id": "d60c8c09-d1f6-43f3-9945-6c7b6dd47d71",
   "metadata": {},
   "outputs": [
    {
     "name": "stdout",
     "output_type": "stream",
     "text": [
      "My name is: Omar Taky\n"
     ]
    }
   ],
   "source": [
    "string1 = \"Omar\"\n",
    "string2 = \"Taky\"\n",
    "\n",
    "result = string1 + \" \" + string2\n",
    "\n",
    "print(\"My name is: \" + result)"
   ]
  },
  {
   "cell_type": "code",
   "execution_count": 11,
   "id": "5d7e613d-c1cb-4d93-930b-cf3125a36d67",
   "metadata": {},
   "outputs": [
    {
     "name": "stdout",
     "output_type": "stream",
     "text": [
      "Uppercase: LEARNING PYTHON\n",
      "Lowercase: learning python\n",
      "After replacement: I LOVE PROGRAMMING\n"
     ]
    }
   ],
   "source": [
    "original_string = \"LEARNING PYTHON\"\n",
    "\n",
    "# uppercase\n",
    "uppercase_string = original_string.upper()\n",
    "\n",
    "# lowercase\n",
    "lowercase_string = original_string.lower()\n",
    "\n",
    "# New string\n",
    "replace_string = \"I LOVE PYTHON\"\n",
    "\n",
    "# Replace \"PYTHON\" with \"PROGRAMMING\" \n",
    "new_string = replace_string.replace(\"PYTHON\", \"PROGRAMMING\")\n",
    "\n",
    "print(\"Uppercase:\", uppercase_string)\n",
    "print(\"Lowercase:\", lowercase_string)\n",
    "print(\"After replacement:\", new_string)\n"
   ]
  },
  {
   "cell_type": "code",
   "execution_count": 13,
   "id": "037a7383-f7c4-43a2-8c97-797f453cc3e1",
   "metadata": {},
   "outputs": [
    {
     "name": "stdout",
     "output_type": "stream",
     "text": [
      "Integer: 789\n",
      "Float: 123.45\n"
     ]
    }
   ],
   "source": [
    "integer_number = int(\"789\")\n",
    "\n",
    "float_number = float(\"123.45\")\n",
    "\n",
    "print(\"Integer:\", integer_number)\n",
    "print(\"Float:\", float_number)"
   ]
  },
  {
   "cell_type": "code",
   "execution_count": 15,
   "id": "99f4516b-ccb0-4a19-9f66-317f475f7b74",
   "metadata": {},
   "outputs": [
    {
     "name": "stdin",
     "output_type": "stream",
     "text": [
      "Enter a number:  20\n"
     ]
    },
    {
     "name": "stdout",
     "output_type": "stream",
     "text": [
      "Float number: 20.0\n"
     ]
    }
   ],
   "source": [
    "user_input = input(\"Enter a number: \")\n",
    "\n",
    "try:\n",
    "    float_number = float(user_input)\n",
    "    print(\"Float number:\", float_number)\n",
    "except ValueError:\n",
    "    print(\"Invalid input. Please enter a valid number.\")"
   ]
  },
  {
   "cell_type": "code",
   "execution_count": 15,
   "id": "1f9a536a-0353-4efd-a33e-7ec06da8f118",
   "metadata": {},
   "outputs": [
    {
     "name": "stdin",
     "output_type": "stream",
     "text": [
      "Enter a number:  20\n"
     ]
    },
    {
     "name": "stdout",
     "output_type": "stream",
     "text": [
      "Float number: 20.0\n"
     ]
    }
   ],
   "source": [
    "user_input = input(\"Enter a number: \")\n",
    "\n",
    "try:\n",
    "    float_number = float(user_input)\n",
    "    print(\"Float number:\", float_number)\n",
    "except ValueError:\n",
    "    print(\"Invalid input. Please enter a valid number.\")"
   ]
  },
  {
   "cell_type": "code",
   "execution_count": null,
   "id": "89f9fb80-b0a7-428f-bc1f-a5e895471673",
   "metadata": {},
   "outputs": [],
   "source": []
  }
 ],
 "metadata": {
  "kernelspec": {
   "display_name": "Python 3 (ipykernel)",
   "language": "python",
   "name": "python3"
  },
  "language_info": {
   "codemirror_mode": {
    "name": "ipython",
    "version": 3
   },
   "file_extension": ".py",
   "mimetype": "text/x-python",
   "name": "python",
   "nbconvert_exporter": "python",
   "pygments_lexer": "ipython3",
   "version": "3.11.4"
  }
 },
 "nbformat": 4,
 "nbformat_minor": 5
}
