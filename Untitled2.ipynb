{
 "cells": [
  {
   "cell_type": "code",
   "execution_count": 12,
   "id": "dce72c5c-597a-4fcb-96b4-902deafd267e",
   "metadata": {},
   "outputs": [
    {
     "name": "stdin",
     "output_type": "stream",
     "text": [
      "Write a numbre between 0 and 10 6\n"
     ]
    },
    {
     "name": "stdout",
     "output_type": "stream",
     "text": [
      "Multiplication table for 6:\n",
      "6 x 1 = 6\n",
      "6 x 2 = 12\n",
      "6 x 3 = 18\n",
      "6 x 4 = 24\n",
      "6 x 5 = 30\n",
      "6 x 6 = 36\n",
      "6 x 7 = 42\n",
      "6 x 8 = 48\n",
      "6 x 9 = 54\n",
      "6 x 10 = 60\n",
      "6 x 11 = 66\n",
      "6 x 12 = 72\n"
     ]
    }
   ],
   "source": [
    "x=int(input(\"Write a numbre between 0 and 10\"))\n",
    "print(f\"Multiplication table for {x}:\")\n",
    "\n",
    "for i in range(1,13):\n",
    "    result = x*i;\n",
    "    print(f\"{x} x {i} = {result}\")\n"
   ]
  },
  {
   "cell_type": "code",
   "execution_count": null,
   "id": "9e14ba5f-5c1f-4596-8d40-f5cf6efc5fd8",
   "metadata": {},
   "outputs": [],
   "source": [
    "def calculator():\n",
    "    while True:\n",
    "        try:\n",
    "            num1 = float(input(\"Enter the first number: \"))\n",
    "            num2 = float(input(\"Enter the second number: \"))\n",
    "\n",
    "            print(\"\\nChoose an operation:\")\n",
    "            print(\"1. Addition (+)\")\n",
    "            print(\"2. Subtraction (-)\")\n",
    "            print(\"3. Multiplication (*)\")\n",
    "            print(\"4. Division (/)\")\n",
    "            print(\"5. Exponentiation (^)\")\n",
    "            print(\"6. Modulo (%)\")\n",
    "            operation = input(\"Choose one of these operations \")\n",
    "            \n",
    "\n",
    "            if operation == '+':\n",
    "                result = num1 + num2\n",
    "                print(f\"{num1} + {num2} = {result}\")\n",
    "            elif operation == '-':\n",
    "                result = num1 - num2\n",
    "                print(f\"{num1} - {num2} = {result}\")\n",
    "            elif operation == '*':\n",
    "                result = num1 * num2\n",
    "                print(f\"{num1} * {num2} = {result}\")\n",
    "            elif operation == '/':\n",
    "                    result = num1 / num2\n",
    "                    print(f\"{num1} / {num2} = {result}\")\n",
    "            elif operation == '^':\n",
    "                result = num1 ** num2\n",
    "                print(f\"{num1} ^ {num2} = {result}\")\n",
    "            elif operation == '%':\n",
    "                result = num1 % num2\n",
    "                print(f\"{num1} % {num2} = {result}\")\n",
    "            else:\n",
    "                print(\"Invalid operation. Please try again.\")\n",
    "\n",
    "        except ValueError:\n",
    "            print(\"Invalid input. Please enter numeric values.\")\n",
    "\n",
    "        another_calculation = input(\"Do you want to perform another calculation? (y/n): \").lower()\n",
    "        if another_calculation == 'n':\n",
    "            print (\"Ok, have a good day!!\")\n",
    "            break\n",
    "\n",
    "calculator()\n"
   ]
  },
  {
   "cell_type": "code",
   "execution_count": null,
   "id": "fa637722-00e3-4f2c-b7b3-01b6615ca307",
   "metadata": {},
   "outputs": [],
   "source": []
  },
  {
   "cell_type": "code",
   "execution_count": null,
   "id": "50e370e8-ac2f-461a-9ca8-67f242873109",
   "metadata": {},
   "outputs": [],
   "source": []
  }
 ],
 "metadata": {
  "kernelspec": {
   "display_name": "Python 3 (ipykernel)",
   "language": "python",
   "name": "python3"
  },
  "language_info": {
   "codemirror_mode": {
    "name": "ipython",
    "version": 3
   },
   "file_extension": ".py",
   "mimetype": "text/x-python",
   "name": "python",
   "nbconvert_exporter": "python",
   "pygments_lexer": "ipython3",
   "version": "3.11.4"
  }
 },
 "nbformat": 4,
 "nbformat_minor": 5
}
