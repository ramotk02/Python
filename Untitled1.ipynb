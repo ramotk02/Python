{
 "cells": [
  {
   "cell_type": "code",
   "execution_count": 5,
   "id": "f37a7213-921b-4c64-a648-92848c1fca69",
   "metadata": {},
   "outputs": [
    {
     "name": "stdin",
     "output_type": "stream",
     "text": [
      "Choose a number and I'll tell you if it's positive, negative, or zero:  5\n"
     ]
    },
    {
     "name": "stdout",
     "output_type": "stream",
     "text": [
      "Your number is positive\n"
     ]
    }
   ],
   "source": [
    "x = int(input(\"Choose a number and I'll tell you if it's positive, negative, or zero: \"))\n",
    "\n",
    "if x > 0:\n",
    "    print(\"Your number is positive\")\n",
    "elif x < 0:\n",
    "    print(\"Your number is negative\")\n",
    "else:\n",
    "    print(\"Your number is zero\")"
   ]
  },
  {
   "cell_type": "code",
   "execution_count": 6,
   "id": "a840bb7e-ec56-413c-bf12-a1e5720b231d",
   "metadata": {},
   "outputs": [
    {
     "name": "stdin",
     "output_type": "stream",
     "text": [
      "Please enter your age:  14\n"
     ]
    },
    {
     "name": "stdout",
     "output_type": "stream",
     "text": [
      "You are not eligible to vote.\n"
     ]
    }
   ],
   "source": [
    "age = int(input(\"Please enter your age: \"))\n",
    "if age >= 18:\n",
    "    print(\"You are eligible to vote.\")\n",
    "else:\n",
    "    print(\"You are not eligible to vote.\")"
   ]
  },
  {
   "cell_type": "code",
   "execution_count": 12,
   "id": "e9d740c6-8f87-4c29-8e90-fae461f84d6f",
   "metadata": {},
   "outputs": [
    {
     "name": "stdin",
     "output_type": "stream",
     "text": [
      "Please enter your age:  5\n"
     ]
    },
    {
     "name": "stdout",
     "output_type": "stream",
     "text": [
      "You are not eligible to vote.\n"
     ]
    }
   ],
   "source": [
    "age = int(input(\"Please enter your age: \"))\n",
    "\n",
    "if age >= 0 and age <= 120:\n",
    "    if age >= 18:\n",
    "        print(\"You are eligible to vote.\")\n",
    "    else:\n",
    "        print(\"You are not eligible to vote.\")"
   ]
  },
  {
   "cell_type": "code",
   "execution_count": 13,
   "id": "f4bee2d8-bfb7-45df-8672-cbfc441f2528",
   "metadata": {},
   "outputs": [
    {
     "name": "stdin",
     "output_type": "stream",
     "text": [
      "Please enter the temperature in Celsius:  21\n"
     ]
    },
    {
     "name": "stdout",
     "output_type": "stream",
     "text": [
      "The temperature in Fahrenheit is: 69.80°F\n",
      "The temperature is normal.\n"
     ]
    }
   ],
   "source": [
    "celsius = float(input(\"Please enter the temperature in Celsius: \"))\n",
    "\n",
    "fahrenheit = (9/5) * celsius + 32\n",
    "\n",
    "print(f\"The temperature in Fahrenheit is: {fahrenheit:.2f}°F\")\n",
    "\n",
    "if fahrenheit <= 32:\n",
    "    print(\"The temperature is below freezing.\")\n",
    "elif fahrenheit >= 212:\n",
    "    print(\"The temperature is above boiling.\")\n",
    "else:\n",
    "    print(\"The temperature is normal.\")"
   ]
  },
  {
   "cell_type": "code",
   "execution_count": 17,
   "id": "d7b1a6e9-ff17-419d-97b9-d333a5cd4f2a",
   "metadata": {},
   "outputs": [
    {
     "name": "stdin",
     "output_type": "stream",
     "text": [
      "Please enter your weight in kilograms:  80\n",
      "Please enter your height in meters:  1.80\n"
     ]
    },
    {
     "name": "stdout",
     "output_type": "stream",
     "text": [
      "Your BMI is: 24.69\n",
      "Based on your BMI, you are Normal weight.\n"
     ]
    }
   ],
   "source": [
    "weight = float(input(\"Please enter your weight in kilograms: \"))\n",
    "\n",
    "height = float(input(\"Please enter your height in meters: \"))\n",
    "\n",
    "bmi = weight / (height ** 2)\n",
    "\n",
    "print(f\"Your BMI is: {bmi:.2f}\")\n",
    "\n",
    "if bmi < 18.5:\n",
    "    category = \"Underweight\"\n",
    "elif 18.5 <= bmi < 24.9:\n",
    "    category = \"Normal weight\"\n",
    "elif 25 <= bmi < 29.9:\n",
    "    category = \"Overweight\"\n",
    "else:\n",
    "    category = \"Obese\"\n",
    "\n",
    "print(f\"Based on your BMI, you are {category}.\")\n"
   ]
  },
  {
   "cell_type": "code",
   "execution_count": null,
   "id": "6196576b-80e6-4231-84a6-2f81a5bb5e1f",
   "metadata": {},
   "outputs": [],
   "source": []
  }
 ],
 "metadata": {
  "kernelspec": {
   "display_name": "Python 3 (ipykernel)",
   "language": "python",
   "name": "python3"
  },
  "language_info": {
   "codemirror_mode": {
    "name": "ipython",
    "version": 3
   },
   "file_extension": ".py",
   "mimetype": "text/x-python",
   "name": "python",
   "nbconvert_exporter": "python",
   "pygments_lexer": "ipython3",
   "version": "3.11.4"
  }
 },
 "nbformat": 4,
 "nbformat_minor": 5
}
