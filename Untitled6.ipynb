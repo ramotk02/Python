{
 "cells": [
  {
   "cell_type": "code",
   "execution_count": 2,
   "id": "7b21bc36-ee2c-44dc-b131-4e2b905259a7",
   "metadata": {},
   "outputs": [
    {
     "name": "stdout",
     "output_type": "stream",
     "text": [
      "Name: Hiba\n",
      "Employee ID: E001\n",
      "Daily Rate: $100.00\n",
      "Attendance: 90.00%\n",
      "Monthly Salary: $2700.00\n",
      "Name: Basma\n",
      "Employee ID: M001\n",
      "Daily Rate: $150.00\n",
      "Attendance: 95.00%\n",
      "Projects Managing: ['Project Alpha']\n",
      "Name: Omar\n",
      "Employee ID: D001\n",
      "Daily Rate: $120.00\n",
      "Attendance: 85.00%\n",
      "Profile Information: {'Name': 'Omar', 'Employee ID': 'D001', 'Daily Rate': 120, 'Attendance': 85, 'Programming Language': 'Python', 'Current Projects': ['Project Beta']}\n"
     ]
    }
   ],
   "source": [
    "class Employee:\n",
    "    def __init__(self, name, employee_id, daily_rate, attendance):\n",
    "        self.name = name\n",
    "        self.employee_id = employee_id\n",
    "        self.daily_rate = daily_rate\n",
    "        self.attendance = attendance\n",
    "\n",
    "    def calculate_monthly_salary(self):\n",
    "        return self.daily_rate * (self.attendance / 100) * 30\n",
    "\n",
    "    def set_attendance(self, attendance):\n",
    "        self.attendance = attendance\n",
    "\n",
    "    def display_employee_info(self):\n",
    "        print(f\"Name: {self.name}\")\n",
    "        print(f\"Employee ID: {self.employee_id}\")\n",
    "        print(f\"Daily Rate: ${self.daily_rate:.2f}\")\n",
    "        print(f\"Attendance: {self.attendance:.2f}%\")\n",
    "\n",
    "class Manager(Employee):\n",
    "    def __init__(self, name, employee_id, daily_rate, attendance, department, projects_managing=None):\n",
    "        Employee.__init__(self, name, employee_id, daily_rate, attendance)\n",
    "        self.department = department\n",
    "        self.projects_managing = projects_managing if projects_managing is not None else []\n",
    "\n",
    "    def set_department(self, department):\n",
    "        self.department = department\n",
    "\n",
    "    def manage_new_project(self, project):\n",
    "        self.projects_managing.append(project)\n",
    "\n",
    "class Developer(Employee):\n",
    "    def __init__(self, name, employee_id, daily_rate, attendance, programming_language, current_projects=None):\n",
    "        Employee.__init__(self, name, employee_id, daily_rate, attendance)\n",
    "        self.programming_language = programming_language\n",
    "        self.current_projects = current_projects if current_projects is not None else []\n",
    "\n",
    "    def add_project(self, project):\n",
    "        self.current_projects.append(project)\n",
    "\n",
    "    def employee_profile(self):\n",
    "        info = {\n",
    "            \"Name\": self.name,\n",
    "            \"Employee ID\": self.employee_id,\n",
    "            \"Daily Rate\": self.daily_rate,\n",
    "            \"Attendance\": self.attendance,\n",
    "            \"Programming Language\": self.programming_language,\n",
    "            \"Current Projects\": self.current_projects\n",
    "        }\n",
    "        return info\n",
    "\n",
    "emp = Employee(\"Hiba\", \"E001\", 100, 90)\n",
    "emp.display_employee_info()\n",
    "print(f\"Monthly Salary: ${emp.calculate_monthly_salary():.2f}\")\n",
    "\n",
    "mgr = Manager(\"Basma\", \"M001\", 150, 95, \"Sales\")\n",
    "mgr.manage_new_project(\"Project Alpha\")\n",
    "mgr.display_employee_info()\n",
    "print(f\"Projects Managing: {mgr.projects_managing}\")\n",
    "\n",
    "dev = Developer(\"Omar\", \"D001\", 120, 85, \"Python\")\n",
    "dev.add_project(\"Project Beta\")\n",
    "dev.display_employee_info()\n",
    "print(\"Profile Information:\", dev.employee_profile())\n"
   ]
  },
  {
   "cell_type": "code",
   "execution_count": null,
   "id": "cda7e162-ed24-4b2b-945c-6541d26f12f1",
   "metadata": {},
   "outputs": [],
   "source": []
  }
 ],
 "metadata": {
  "kernelspec": {
   "display_name": "Python 3 (ipykernel)",
   "language": "python",
   "name": "python3"
  },
  "language_info": {
   "codemirror_mode": {
    "name": "ipython",
    "version": 3
   },
   "file_extension": ".py",
   "mimetype": "text/x-python",
   "name": "python",
   "nbconvert_exporter": "python",
   "pygments_lexer": "ipython3",
   "version": "3.11.4"
  }
 },
 "nbformat": 4,
 "nbformat_minor": 5
}
